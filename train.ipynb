{
 "cells": [
  {
   "cell_type": "markdown",
   "metadata": {
    "colab_type": "text",
    "id": "jDfO9wSmEP1n"
   },
   "source": [
    "# **Import necessary modules**"
   ]
  },
  {
   "cell_type": "code",
   "execution_count": 0,
   "metadata": {
    "colab": {
     "base_uri": "https://localhost:8080/",
     "height": 34
    },
    "colab_type": "code",
    "id": "5sx5bvnHpHMj",
    "outputId": "5e03da54-9b7d-44cd-d91a-85516eac7115"
   },
   "outputs": [
    {
     "name": "stdout",
     "output_type": "stream",
     "text": [
      "TensorFlow 2.x selected.\n"
     ]
    }
   ],
   "source": [
    "import matplotlib.pyplot as plt\n",
    "import tensorflow as tf\n",
    "import pandas as pd\n",
    "import numpy as np\n",
    "import sys\n",
    "import os"
   ]
  },
  {
   "cell_type": "code",
   "execution_count": 0,
   "metadata": {
    "colab": {},
    "colab_type": "code",
    "id": "Hkc-avhgpQvE"
   },
   "outputs": [],
   "source": [
    "# Paths\n",
    "root = '.'\n",
    "data_path = os.path.join(root, 'data', 'icml_face_data.csv')"
   ]
  },
  {
   "cell_type": "code",
   "execution_count": 0,
   "metadata": {
    "colab": {},
    "colab_type": "code",
    "id": "UGHmF9v9A3zk"
   },
   "outputs": [],
   "source": [
    "sys.path.append(root)\n",
    "from model import Model"
   ]
  },
  {
   "cell_type": "markdown",
   "metadata": {
    "colab_type": "text",
    "id": "IwLlO9jVBKYC"
   },
   "source": [
    "# **Define Constants**"
   ]
  },
  {
   "cell_type": "code",
   "execution_count": 0,
   "metadata": {
    "colab": {},
    "colab_type": "code",
    "id": "TNKNKjTvqB_p"
   },
   "outputs": [],
   "source": [
    "# Training constants\n",
    "# Prone to modifications\n",
    "batch_size = 128*2\n",
    "buffer_size = 10000\n",
    "learning_rate = 1e-3"
   ]
  },
  {
   "cell_type": "markdown",
   "metadata": {
    "colab_type": "text",
    "id": "wlOUrSVTBUvd"
   },
   "source": [
    "# **Choice of Loss Functions and Optimizers**"
   ]
  },
  {
   "cell_type": "code",
   "execution_count": 0,
   "metadata": {
    "colab": {},
    "colab_type": "code",
    "id": "a3JMhukupkJq"
   },
   "outputs": [],
   "source": [
    "# Loss functions\n",
    "catagorical_crossentropy_loss = tf.keras.losses.CategoricalCrossentropy()\n",
    "kl_divergence_loss = tf.keras.losses.KLDivergence()\n",
    "\n",
    "# Optimizers\n",
    "adam_optimizer = tf.keras.optimizers.Adam(learning_rate=learning_rate)\n",
    "rmsprop_optimizer = tf.keras.optimizers.RMSprop(learning_rate=learning_rate)"
   ]
  },
  {
   "cell_type": "markdown",
   "metadata": {
    "colab_type": "text",
    "id": "sVqX_VXpBcMi"
   },
   "source": [
    "# **Data Extraction and Conversion**"
   ]
  },
  {
   "cell_type": "code",
   "execution_count": 0,
   "metadata": {
    "colab": {},
    "colab_type": "code",
    "id": "8coNvOZlpTuZ"
   },
   "outputs": [],
   "source": [
    "dataset = pd.read_csv(data_path)\n",
    "train_data = dataset[dataset[' Usage'] == 'Training']\n",
    "val_data = dataset[dataset[' Usage'] == 'PrivateTest']"
   ]
  },
  {
   "cell_type": "code",
   "execution_count": 0,
   "metadata": {
    "colab": {},
    "colab_type": "code",
    "id": "1rHYH0PDC_eF"
   },
   "outputs": [],
   "source": [
    "def train_data_gen():\n",
    "    for _, row in train_data.iterrows():\n",
    "        emotion = int(row.emotion)\n",
    "        onehot_emotion = np.eye(7)[emotion].T.reshape((7, 1))\n",
    "        image = np.fromstring(row[' pixels'], dtype=np.float32, sep=' ').reshape((48, 48, 1)) / 255.\n",
    "        yield (image, onehot_emotion)"
   ]
  },
  {
   "cell_type": "code",
   "execution_count": 0,
   "metadata": {
    "colab": {},
    "colab_type": "code",
    "id": "XIHTJZ95pYYA"
   },
   "outputs": [],
   "source": [
    "def val_data_gen():\n",
    "    for _, row in val_data.iterrows():\n",
    "        emotion = int(row.emotion)\n",
    "        onehot_emotion = np.eye(7)[emotion].T.reshape((7, 1))\n",
    "        image = np.fromstring(row[' pixels'], dtype=np.float32, sep=' ').reshape((48, 48, 1)) / 255.\n",
    "        yield (image, onehot_emotion)"
   ]
  },
  {
   "cell_type": "code",
   "execution_count": 0,
   "metadata": {
    "colab": {},
    "colab_type": "code",
    "id": "nlhyazvXpau6"
   },
   "outputs": [],
   "source": [
    "train_dataset = tf.data.Dataset.from_generator(train_data_gen,\n",
    "                                               (tf.float32, tf.int32),\n",
    "                                               (tf.TensorShape([48, 48, 1]), tf.TensorShape([7, 1]))).shuffle(buffer_size).batch(batch_size)\n",
    "val_dataset = tf.data.Dataset.from_generator(val_data_gen,\n",
    "                                             (tf.float32, tf.int32),\n",
    "                                             (tf.TensorShape([48, 48, 1]), tf.TensorShape([7, 1]))).batch(batch_size)"
   ]
  },
  {
   "cell_type": "markdown",
   "metadata": {
    "colab_type": "text",
    "id": "KBHv6JUWDKv_"
   },
   "source": [
    "# **Model Init and Compilation**"
   ]
  },
  {
   "cell_type": "code",
   "execution_count": 0,
   "metadata": {
    "colab": {
     "base_uri": "https://localhost:8080/",
     "height": 901
    },
    "colab_type": "code",
    "id": "sTAycf4KqXiW",
    "outputId": "839cc2d2-3bff-44cf-ba66-aa33fa13045d"
   },
   "outputs": [
    {
     "name": "stdout",
     "output_type": "stream",
     "text": [
      "Model: \"sequential\"\n",
      "_________________________________________________________________\n",
      "Layer (type)                 Output Shape              Param #   \n",
      "=================================================================\n",
      "conv2d (Conv2D)              (None, 48, 48, 256)       2560      \n",
      "_________________________________________________________________\n",
      "batch_normalization (BatchNo (None, 48, 48, 256)       1024      \n",
      "_________________________________________________________________\n",
      "leaky_re_lu (LeakyReLU)      (None, 48, 48, 256)       0         \n",
      "_________________________________________________________________\n",
      "max_pooling2d (MaxPooling2D) (None, 23, 23, 256)       0         \n",
      "_________________________________________________________________\n",
      "conv2d_1 (Conv2D)            (None, 23, 23, 128)       295040    \n",
      "_________________________________________________________________\n",
      "batch_normalization_1 (Batch (None, 23, 23, 128)       512       \n",
      "_________________________________________________________________\n",
      "leaky_re_lu_1 (LeakyReLU)    (None, 23, 23, 128)       0         \n",
      "_________________________________________________________________\n",
      "average_pooling2d (AveragePo (None, 11, 11, 128)       0         \n",
      "_________________________________________________________________\n",
      "conv2d_2 (Conv2D)            (None, 11, 11, 64)        73792     \n",
      "_________________________________________________________________\n",
      "batch_normalization_2 (Batch (None, 11, 11, 64)        256       \n",
      "_________________________________________________________________\n",
      "leaky_re_lu_2 (LeakyReLU)    (None, 11, 11, 64)        0         \n",
      "_________________________________________________________________\n",
      "average_pooling2d_1 (Average (None, 5, 5, 64)          0         \n",
      "_________________________________________________________________\n",
      "flatten (Flatten)            (None, 1600)              0         \n",
      "_________________________________________________________________\n",
      "dense (Dense)                (None, 1024)              1639424   \n",
      "_________________________________________________________________\n",
      "dropout (Dropout)            (None, 1024)              0         \n",
      "_________________________________________________________________\n",
      "batch_normalization_3 (Batch (None, 1024)              4096      \n",
      "_________________________________________________________________\n",
      "leaky_re_lu_3 (LeakyReLU)    (None, 1024)              0         \n",
      "_________________________________________________________________\n",
      "dense_1 (Dense)              (None, 1024)              1049600   \n",
      "_________________________________________________________________\n",
      "dropout_1 (Dropout)          (None, 1024)              0         \n",
      "_________________________________________________________________\n",
      "batch_normalization_4 (Batch (None, 1024)              4096      \n",
      "_________________________________________________________________\n",
      "leaky_re_lu_4 (LeakyReLU)    (None, 1024)              0         \n",
      "_________________________________________________________________\n",
      "dense_2 (Dense)              (None, 7)                 7175      \n",
      "=================================================================\n",
      "Total params: 3,077,575\n",
      "Trainable params: 3,072,583\n",
      "Non-trainable params: 4,992\n",
      "_________________________________________________________________\n"
     ]
    }
   ],
   "source": [
    "model = Model().get_model()\n",
    "model.summary()"
   ]
  },
  {
   "cell_type": "code",
   "execution_count": 0,
   "metadata": {
    "colab": {},
    "colab_type": "code",
    "id": "pfuTIe-8rX0W"
   },
   "outputs": [],
   "source": [
    "model.compile(optimizer=adam_optimizer,\n",
    "              loss='categorical_crossentropy',\n",
    "              metrics=[tf.keras.metrics.CategoricalAccuracy()])"
   ]
  },
  {
   "cell_type": "markdown",
   "metadata": {
    "colab_type": "text",
    "id": "vWSdvo4rDPqL"
   },
   "source": [
    "# **Method to plot accuracy variation throughout training**"
   ]
  },
  {
   "cell_type": "code",
   "execution_count": 0,
   "metadata": {
    "colab": {},
    "colab_type": "code",
    "id": "0mck5hZDqR_J"
   },
   "outputs": [],
   "source": [
    "def plot_accuracy_summary(history):\n",
    "    plt.title('Loss')\n",
    "    plt.plot(history.history['categorical_accuracy'], label='train')\n",
    "    plt.plot(history.history['val_categorical_accuracy'], label='test')\n",
    "    plt.legend()\n",
    "    plt.show()"
   ]
  },
  {
   "cell_type": "markdown",
   "metadata": {
    "colab_type": "text",
    "id": "KUz3cOP9LzF8"
   },
   "source": [
    "# **Callbacks**"
   ]
  },
  {
   "cell_type": "code",
   "execution_count": 0,
   "metadata": {
    "colab": {},
    "colab_type": "code",
    "id": "8cpMRODIDl8g"
   },
   "outputs": [],
   "source": [
    "checkpoint_callback = tf.keras.callbacks.ModelCheckpoint(os.path.join(root, 'weights', 'best_weights.h5'),\n",
    "                                      monitor='val_categorical_accuracy',\n",
    "                                      verbose=1,\n",
    "                                      save_best_only=True, mode='max')\n",
    "\n",
    "\n",
    "reducelr_callback = tf.keras.callbacks.ReduceLROnPlateau(monitor='val_categorical_accuracy',\n",
    "                                                         factor=0.1,\n",
    "                                                         patience=5,\n",
    "                                                         min_delta=0.01,verbose=1)\n",
    "\n",
    "callbacks_list = [checkpoint_callback, reducelr_callback]"
   ]
  },
  {
   "cell_type": "markdown",
   "metadata": {
    "colab_type": "text",
    "id": "6IfHhHWNDc3R"
   },
   "source": [
    "# **Model Training**"
   ]
  },
  {
   "cell_type": "code",
   "execution_count": 0,
   "metadata": {
    "colab": {
     "base_uri": "https://localhost:8080/",
     "height": 1000
    },
    "colab_type": "code",
    "id": "QZ0qaIfir1yS",
    "outputId": "ddfef732-7881-404b-8d37-a77e7d6c0083"
   },
   "outputs": [
    {
     "name": "stdout",
     "output_type": "stream",
     "text": [
      "Epoch 1/40\n",
      "\n",
      "Epoch 00001: val_categorical_accuracy improved from -inf to 0.30148, saving model to /content/drive/My Drive/Experimental Projects/Emotion Detection/weights/best_weights.h5\n",
      "113/113 - 45s - loss: 1.6824 - categorical_accuracy: 0.3595 - val_loss: 1.8938 - val_categorical_accuracy: 0.3015\n",
      "Epoch 2/40\n",
      "\n",
      "Epoch 00002: val_categorical_accuracy improved from 0.30148 to 0.31708, saving model to /content/drive/My Drive/Experimental Projects/Emotion Detection/weights/best_weights.h5\n",
      "113/113 - 37s - loss: 1.4453 - categorical_accuracy: 0.4482 - val_loss: 1.8245 - val_categorical_accuracy: 0.3171\n",
      "Epoch 3/40\n",
      "\n",
      "Epoch 00003: val_categorical_accuracy improved from 0.31708 to 0.38228, saving model to /content/drive/My Drive/Experimental Projects/Emotion Detection/weights/best_weights.h5\n",
      "113/113 - 37s - loss: 1.3246 - categorical_accuracy: 0.4939 - val_loss: 1.6744 - val_categorical_accuracy: 0.3823\n",
      "Epoch 4/40\n",
      "\n",
      "Epoch 00004: val_categorical_accuracy improved from 0.38228 to 0.50293, saving model to /content/drive/My Drive/Experimental Projects/Emotion Detection/weights/best_weights.h5\n",
      "113/113 - 37s - loss: 1.2589 - categorical_accuracy: 0.5215 - val_loss: 1.3163 - val_categorical_accuracy: 0.5029\n",
      "Epoch 5/40\n",
      "\n",
      "Epoch 00005: val_categorical_accuracy improved from 0.50293 to 0.51881, saving model to /content/drive/My Drive/Experimental Projects/Emotion Detection/weights/best_weights.h5\n",
      "113/113 - 37s - loss: 1.2017 - categorical_accuracy: 0.5451 - val_loss: 1.3118 - val_categorical_accuracy: 0.5188\n",
      "Epoch 6/40\n",
      "\n",
      "Epoch 00006: val_categorical_accuracy did not improve from 0.51881\n",
      "113/113 - 34s - loss: 1.1560 - categorical_accuracy: 0.5585 - val_loss: 1.3187 - val_categorical_accuracy: 0.5185\n",
      "Epoch 7/40\n",
      "\n",
      "Epoch 00007: val_categorical_accuracy improved from 0.51881 to 0.54639, saving model to /content/drive/My Drive/Experimental Projects/Emotion Detection/weights/best_weights.h5\n",
      "113/113 - 37s - loss: 1.1172 - categorical_accuracy: 0.5771 - val_loss: 1.2667 - val_categorical_accuracy: 0.5464\n",
      "Epoch 8/40\n",
      "\n",
      "Epoch 00008: val_categorical_accuracy improved from 0.54639 to 0.54890, saving model to /content/drive/My Drive/Experimental Projects/Emotion Detection/weights/best_weights.h5\n",
      "113/113 - 37s - loss: 1.0849 - categorical_accuracy: 0.5896 - val_loss: 1.2538 - val_categorical_accuracy: 0.5489\n",
      "Epoch 9/40\n",
      "\n",
      "Epoch 00009: val_categorical_accuracy improved from 0.54890 to 0.55447, saving model to /content/drive/My Drive/Experimental Projects/Emotion Detection/weights/best_weights.h5\n",
      "113/113 - 37s - loss: 1.0545 - categorical_accuracy: 0.6024 - val_loss: 1.1851 - val_categorical_accuracy: 0.5545\n",
      "Epoch 10/40\n",
      "\n",
      "Epoch 00010: val_categorical_accuracy improved from 0.55447 to 0.58429, saving model to /content/drive/My Drive/Experimental Projects/Emotion Detection/weights/best_weights.h5\n",
      "113/113 - 37s - loss: 1.0213 - categorical_accuracy: 0.6156 - val_loss: 1.1375 - val_categorical_accuracy: 0.5843\n",
      "Epoch 11/40\n",
      "\n",
      "Epoch 00011: val_categorical_accuracy did not improve from 0.58429\n",
      "113/113 - 34s - loss: 0.9944 - categorical_accuracy: 0.6283 - val_loss: 1.3280 - val_categorical_accuracy: 0.5511\n",
      "Epoch 12/40\n",
      "\n",
      "Epoch 00012: val_categorical_accuracy did not improve from 0.58429\n",
      "113/113 - 34s - loss: 0.9699 - categorical_accuracy: 0.6360 - val_loss: 1.2574 - val_categorical_accuracy: 0.5634\n",
      "Epoch 13/40\n",
      "\n",
      "Epoch 00013: val_categorical_accuracy improved from 0.58429 to 0.58819, saving model to /content/drive/My Drive/Experimental Projects/Emotion Detection/weights/best_weights.h5\n",
      "113/113 - 36s - loss: 0.9473 - categorical_accuracy: 0.6426 - val_loss: 1.1609 - val_categorical_accuracy: 0.5882\n",
      "Epoch 14/40\n",
      "\n",
      "Epoch 00014: val_categorical_accuracy improved from 0.58819 to 0.58902, saving model to /content/drive/My Drive/Experimental Projects/Emotion Detection/weights/best_weights.h5\n",
      "113/113 - 37s - loss: 0.9152 - categorical_accuracy: 0.6579 - val_loss: 1.1712 - val_categorical_accuracy: 0.5890\n",
      "Epoch 15/40\n",
      "\n",
      "Epoch 00015: val_categorical_accuracy did not improve from 0.58902\n",
      "\n",
      "Epoch 00015: ReduceLROnPlateau reducing learning rate to 0.00010000000474974513.\n",
      "113/113 - 34s - loss: 0.8969 - categorical_accuracy: 0.6680 - val_loss: 1.1569 - val_categorical_accuracy: 0.5890\n",
      "Epoch 16/40\n",
      "\n",
      "Epoch 00016: val_categorical_accuracy improved from 0.58902 to 0.63054, saving model to /content/drive/My Drive/Experimental Projects/Emotion Detection/weights/best_weights.h5\n",
      "113/113 - 37s - loss: 0.7773 - categorical_accuracy: 0.7147 - val_loss: 1.0209 - val_categorical_accuracy: 0.6305\n",
      "Epoch 17/40\n",
      "\n",
      "Epoch 00017: val_categorical_accuracy did not improve from 0.63054\n",
      "113/113 - 34s - loss: 0.7319 - categorical_accuracy: 0.7303 - val_loss: 1.0336 - val_categorical_accuracy: 0.6264\n",
      "Epoch 18/40\n",
      "\n",
      "Epoch 00018: val_categorical_accuracy improved from 0.63054 to 0.63472, saving model to /content/drive/My Drive/Experimental Projects/Emotion Detection/weights/best_weights.h5\n",
      "113/113 - 38s - loss: 0.7122 - categorical_accuracy: 0.7388 - val_loss: 1.0395 - val_categorical_accuracy: 0.6347\n",
      "Epoch 19/40\n",
      "\n",
      "Epoch 00019: val_categorical_accuracy improved from 0.63472 to 0.63500, saving model to /content/drive/My Drive/Experimental Projects/Emotion Detection/weights/best_weights.h5\n",
      "113/113 - 37s - loss: 0.7004 - categorical_accuracy: 0.7428 - val_loss: 1.0672 - val_categorical_accuracy: 0.6350\n",
      "Epoch 20/40\n",
      "\n",
      "Epoch 00020: val_categorical_accuracy did not improve from 0.63500\n",
      "113/113 - 34s - loss: 0.6885 - categorical_accuracy: 0.7503 - val_loss: 1.0594 - val_categorical_accuracy: 0.6328\n",
      "Epoch 21/40\n",
      "\n",
      "Epoch 00021: val_categorical_accuracy did not improve from 0.63500\n",
      "\n",
      "Epoch 00021: ReduceLROnPlateau reducing learning rate to 1.0000000474974514e-05.\n",
      "113/113 - 34s - loss: 0.6750 - categorical_accuracy: 0.7543 - val_loss: 1.0642 - val_categorical_accuracy: 0.6303\n",
      "Epoch 22/40\n",
      "\n",
      "Epoch 00022: val_categorical_accuracy improved from 0.63500 to 0.63862, saving model to /content/drive/My Drive/Experimental Projects/Emotion Detection/weights/best_weights.h5\n",
      "113/113 - 36s - loss: 0.6509 - categorical_accuracy: 0.7636 - val_loss: 1.0580 - val_categorical_accuracy: 0.6386\n",
      "Epoch 23/40\n",
      "\n",
      "Epoch 00023: val_categorical_accuracy improved from 0.63862 to 0.63918, saving model to /content/drive/My Drive/Experimental Projects/Emotion Detection/weights/best_weights.h5\n",
      "113/113 - 36s - loss: 0.6456 - categorical_accuracy: 0.7640 - val_loss: 1.0592 - val_categorical_accuracy: 0.6392\n",
      "Epoch 24/40\n",
      "\n",
      "Epoch 00024: val_categorical_accuracy improved from 0.63918 to 0.63945, saving model to /content/drive/My Drive/Experimental Projects/Emotion Detection/weights/best_weights.h5\n",
      "113/113 - 36s - loss: 0.6428 - categorical_accuracy: 0.7669 - val_loss: 1.0602 - val_categorical_accuracy: 0.6395\n",
      "Epoch 25/40\n",
      "\n",
      "Epoch 00025: val_categorical_accuracy did not improve from 0.63945\n",
      "113/113 - 33s - loss: 0.6429 - categorical_accuracy: 0.7639 - val_loss: 1.0599 - val_categorical_accuracy: 0.6389\n",
      "Epoch 26/40\n",
      "\n",
      "Epoch 00026: val_categorical_accuracy did not improve from 0.63945\n",
      "\n",
      "Epoch 00026: ReduceLROnPlateau reducing learning rate to 1.0000000656873453e-06.\n",
      "113/113 - 33s - loss: 0.6413 - categorical_accuracy: 0.7676 - val_loss: 1.0642 - val_categorical_accuracy: 0.6369\n",
      "Epoch 27/40\n",
      "\n",
      "Epoch 00027: val_categorical_accuracy did not improve from 0.63945\n",
      "113/113 - 33s - loss: 0.6390 - categorical_accuracy: 0.7676 - val_loss: 1.0643 - val_categorical_accuracy: 0.6375\n",
      "Epoch 28/40\n",
      "\n",
      "Epoch 00028: val_categorical_accuracy did not improve from 0.63945\n",
      "113/113 - 33s - loss: 0.6386 - categorical_accuracy: 0.7677 - val_loss: 1.0643 - val_categorical_accuracy: 0.6369\n",
      "Epoch 29/40\n",
      "\n",
      "Epoch 00029: val_categorical_accuracy did not improve from 0.63945\n",
      "113/113 - 33s - loss: 0.6389 - categorical_accuracy: 0.7700 - val_loss: 1.0646 - val_categorical_accuracy: 0.6367\n",
      "Epoch 30/40\n",
      "\n",
      "Epoch 00030: val_categorical_accuracy did not improve from 0.63945\n",
      "113/113 - 33s - loss: 0.6381 - categorical_accuracy: 0.7710 - val_loss: 1.0650 - val_categorical_accuracy: 0.6367\n",
      "Epoch 31/40\n",
      "\n",
      "Epoch 00031: val_categorical_accuracy did not improve from 0.63945\n",
      "\n",
      "Epoch 00031: ReduceLROnPlateau reducing learning rate to 1.0000001111620805e-07.\n",
      "113/113 - 33s - loss: 0.6407 - categorical_accuracy: 0.7664 - val_loss: 1.0641 - val_categorical_accuracy: 0.6356\n",
      "Epoch 32/40\n",
      "\n",
      "Epoch 00032: val_categorical_accuracy did not improve from 0.63945\n",
      "113/113 - 33s - loss: 0.6373 - categorical_accuracy: 0.7675 - val_loss: 1.0644 - val_categorical_accuracy: 0.6361\n",
      "Epoch 33/40\n",
      "\n",
      "Epoch 00033: val_categorical_accuracy did not improve from 0.63945\n",
      "113/113 - 33s - loss: 0.6351 - categorical_accuracy: 0.7705 - val_loss: 1.0644 - val_categorical_accuracy: 0.6356\n",
      "Epoch 34/40\n",
      "\n",
      "Epoch 00034: val_categorical_accuracy did not improve from 0.63945\n",
      "113/113 - 33s - loss: 0.6388 - categorical_accuracy: 0.7683 - val_loss: 1.0644 - val_categorical_accuracy: 0.6364\n",
      "Epoch 35/40\n",
      "\n",
      "Epoch 00035: val_categorical_accuracy did not improve from 0.63945\n",
      "113/113 - 33s - loss: 0.6327 - categorical_accuracy: 0.7686 - val_loss: 1.0646 - val_categorical_accuracy: 0.6361\n",
      "Epoch 36/40\n",
      "\n",
      "Epoch 00036: val_categorical_accuracy did not improve from 0.63945\n",
      "\n",
      "Epoch 00036: ReduceLROnPlateau reducing learning rate to 1.000000082740371e-08.\n",
      "113/113 - 33s - loss: 0.6394 - categorical_accuracy: 0.7678 - val_loss: 1.0643 - val_categorical_accuracy: 0.6361\n",
      "Epoch 37/40\n",
      "\n",
      "Epoch 00037: val_categorical_accuracy did not improve from 0.63945\n",
      "113/113 - 33s - loss: 0.6361 - categorical_accuracy: 0.7692 - val_loss: 1.0644 - val_categorical_accuracy: 0.6364\n",
      "Epoch 38/40\n",
      "\n",
      "Epoch 00038: val_categorical_accuracy did not improve from 0.63945\n",
      "113/113 - 33s - loss: 0.6383 - categorical_accuracy: 0.7691 - val_loss: 1.0644 - val_categorical_accuracy: 0.6358\n",
      "Epoch 39/40\n",
      "\n",
      "Epoch 00039: val_categorical_accuracy did not improve from 0.63945\n",
      "113/113 - 33s - loss: 0.6379 - categorical_accuracy: 0.7669 - val_loss: 1.0641 - val_categorical_accuracy: 0.6356\n",
      "Epoch 40/40\n",
      "\n",
      "Epoch 00040: val_categorical_accuracy did not improve from 0.63945\n",
      "113/113 - 33s - loss: 0.6393 - categorical_accuracy: 0.7671 - val_loss: 1.0643 - val_categorical_accuracy: 0.6364\n"
     ]
    }
   ],
   "source": [
    "history = model.fit(train_dataset,\n",
    "                    epochs=40,\n",
    "                    verbose=2,\n",
    "                    validation_data=val_dataset,\n",
    "                    callbacks=callbacks_list)"
   ]
  },
  {
   "cell_type": "code",
   "execution_count": 0,
   "metadata": {
    "colab": {
     "base_uri": "https://localhost:8080/",
     "height": 281
    },
    "colab_type": "code",
    "id": "9InLpMossoYs",
    "outputId": "a43af042-12c5-4f8a-b4bd-086b3d480c58"
   },
   "outputs": [
    {
     "data": {
      "image/png": "[encoded data removed]",
      "text/plain": [
       "<Figure size 432x288 with 1 Axes>"
      ]
     },
     "metadata": {
      "tags": []
     },
     "output_type": "display_data"
    }
   ],
   "source": [
    "plot_accuracy_summary(history)"
   ]
  }
 ],
 "metadata": {
  "accelerator": "GPU",
  "colab": {
   "collapsed_sections": [],
   "name": "train.ipynb",
   "provenance": []
  },
  "kernelspec": {
   "display_name": "Python 3",
   "language": "python",
   "name": "python3"
  },
  "language_info": {
   "codemirror_mode": {
    "name": "ipython",
    "version": 3
   },
   "file_extension": ".py",
   "mimetype": "text/x-python",
   "name": "python",
   "nbconvert_exporter": "python",
   "pygments_lexer": "ipython3",
   "version": "3.7.4"
  }
 },
 "nbformat": 4,
 "nbformat_minor": 1
}
